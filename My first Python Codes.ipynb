{
 "cells": [
  {
   "cell_type": "code",
   "execution_count": null,
   "id": "3178629a",
   "metadata": {
    "scrolled": true
   },
   "outputs": [],
   "source": [
    "first_number = input(\"Enter a number: \")\n",
    "second_number = input(\"Enter a second number: \")\n",
    "test_first_number = isinstance(first_number, float)\n",
    "test_second_number = isinstance(second_number, float)\n",
    "first_integer = float(first_number)\n",
    "second_integer = float(second_number)\n",
    "sum = first_integer + second_integer\n",
    "result = f\"The result: {sum}\"\n",
    "print(result)"
   ]
  }
 ],
 "metadata": {
  "kernelspec": {
   "display_name": "Python 3 (ipykernel)",
   "language": "python",
   "name": "python3"
  },
  "language_info": {
   "codemirror_mode": {
    "name": "ipython",
    "version": 3
   },
   "file_extension": ".py",
   "mimetype": "text/x-python",
   "name": "python",
   "nbconvert_exporter": "python",
   "pygments_lexer": "ipython3",
   "version": "3.11.5"
  }
 },
 "nbformat": 4,
 "nbformat_minor": 5
}
